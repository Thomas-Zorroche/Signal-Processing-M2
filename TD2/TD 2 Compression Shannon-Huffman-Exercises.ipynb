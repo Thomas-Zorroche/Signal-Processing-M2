{
 "cells": [
  {
   "cell_type": "markdown",
   "metadata": {},
   "source": [
    "## A. The goal of this part is to implement the Huffman coding and how it can be enhanced to reach the optimal bound."
   ]
  },
  {
   "cell_type": "code",
   "execution_count": 1,
   "metadata": {},
   "outputs": [],
   "source": [
    "from __future__ import division\n",
    "import numpy as np\n",
    "import scipy as sp\n",
    "import pylab as pl\n",
    "import scipy.signal as sg\n",
    "import matplotlib.pyplot as plt"
   ]
  },
  {
   "cell_type": "markdown",
   "metadata": {},
   "source": [
    "### The definition of the entropy: Given a probability vector on a finite space $\\Omega = \\{\\omega_1,\\ldots,\\omega_n\\}$ denoted by $p = (p_1,\\ldots,p_n)$. The entropy is the quantity defined by $H(p) = -\\sum_{i = 1}^n p_i \\log(p_i)$. It's a concave function which is positive since $p_i \\in [0,1]$ and thus $\\log(p_i) \\leq 0$."
   ]
  },
  {
   "cell_type": "code",
   "execution_count": 2,
   "metadata": {},
   "outputs": [],
   "source": [
    "def ShannonEntropy(p):\n",
    "    return -np.sum(p*np.log2(np.maximum(p,1e-15)))"
   ]
  },
  {
   "cell_type": "code",
   "execution_count": 3,
   "metadata": {},
   "outputs": [
    {
     "data": {
      "text/plain": [
       "[<matplotlib.lines.Line2D at 0x22a3ee9ee48>]"
      ]
     },
     "execution_count": 3,
     "metadata": {},
     "output_type": "execute_result"
    },
    {
     "data": {
      "image/png": "[encoded data removed]",
      "text/plain": [
       "<Figure size 432x288 with 1 Axes>"
      ]
     },
     "metadata": {
      "needs_background": "light"
     },
     "output_type": "display_data"
    }
   ],
   "source": [
    "n = 200\n",
    "x = np.linspace(1e-10,1,n)\n",
    "plt.title(\"Shannon entropy\")\n",
    "plt.plot(x,-x*np.log2(x))"
   ]
  },
  {
   "cell_type": "markdown",
   "metadata": {},
   "source": [
    "## In what follows, we consider that the $\\omega_i$ are letters of some alphabet which have a frequency of appearance of $p_i$."
   ]
  },
  {
   "cell_type": "code",
   "execution_count": 4,
   "metadata": {},
   "outputs": [
    {
     "name": "stdout",
     "output_type": "stream",
     "text": [
      "[0.32421875 0.67578125]\n",
      "Empirical p = 0.32\n"
     ]
    }
   ],
   "source": [
    "## Generate a random text according to the frequencies.\n",
    "n = 512; p = 0.3\n",
    "x = (np.random.rand(n) > p) + 1\n",
    "h = [np.sum(x == 1), np.sum(x == 2)]\n",
    "h = h/np.sum(h)\n",
    "print(h)\n",
    "print(\"Empirical p = %.2f\" %h[0])"
   ]
  },
  {
   "cell_type": "code",
   "execution_count": 5,
   "metadata": {},
   "outputs": [
    {
     "name": "stdout",
     "output_type": "stream",
     "text": [
      "Entropy = 0.91\n"
     ]
    }
   ],
   "source": [
    "e = ShannonEntropy(h)\n",
    "print(\"Entropy = %.2f\" %e)"
   ]
  },
  {
   "cell_type": "code",
   "execution_count": 6,
   "metadata": {},
   "outputs": [
    {
     "name": "stdout",
     "output_type": "stream",
     "text": [
      "2.1464393446710153\n"
     ]
    }
   ],
   "source": [
    "### Definition of the probability h\n",
    "h = [.1, .15, .4, .15, .2]\n",
    "print(ShannonEntropy(h))"
   ]
  },
  {
   "cell_type": "markdown",
   "metadata": {},
   "source": [
    "### We use a python library to represent a binary tree. We assume that the tree is coded in the following way, here is an example, $(a,((b,c),(d,e))$."
   ]
  },
  {
   "cell_type": "code",
   "execution_count": 7,
   "metadata": {},
   "outputs": [
    {
     "data": {
      "image/png": "[encoded data removed]",
      "text/plain": [
       "<IPython.core.display.Image object>"
      ]
     },
     "execution_count": 7,
     "metadata": {},
     "output_type": "execute_result"
    }
   ],
   "source": [
    "## import ete3 using if you have conda: \n",
    "## conda install -c etetoolkit ete3\n",
    "## otherwise try: pip install ete3\n",
    "from ete3 import Tree, TreeStyle , NodeStyle, AttrFace, faces\n",
    "## Define the tree\n",
    "T = (\"a\",((\"b\",\"c\"),(\"d\",\"e\")))\n",
    "\n",
    "t = Tree(str(T)+\";\")\n",
    "\n",
    "ts = TreeStyle()\n",
    "#ts.rotation = 90\n",
    "ts.scale = 90\n",
    "ts.branch_vertical_margin = 50 # 10 pixels between adjacent branches\n",
    "ts.show_leaf_name = False #\n",
    "\n",
    "nstyle = NodeStyle()\n",
    "nstyle[\"shape\"] = \"square\"\n",
    "nstyle[\"size\"] = 20\n",
    "nstyle[\"fgcolor\"] = \"orange\"\n",
    "\n",
    "for n in t.traverse():\n",
    "    n.set_style(nstyle)\n",
    "\n",
    "for node in t.iter_leaves():\n",
    "    node.add_face(AttrFace(\"name\", fsize=20), column=0)  \n",
    "    \n",
    "t.render(\"%%inline\", tree_style = ts)"
   ]
  },
  {
   "cell_type": "markdown",
   "metadata": {},
   "source": [
    "### Q1. Write a function that generates the Huffman tree with the probability $h$ as input. Plot the tree with the function above. "
   ]
  },
  {
   "cell_type": "code",
   "execution_count": 42,
   "metadata": {},
   "outputs": [
    {
     "name": "stdout",
     "output_type": "stream",
     "text": [
      "h =  [('A', 0.1), ('B', 0.15), ('C', 0.4), ('D', 0.15), ('E', 0.2)]\n",
      "Corresponding tree:  ('C', (('A', 'B'), ('D', 'E')))\n",
      "2\n"
     ]
    },
    {
     "data": {
      "image/png": "[encoded data removed]",
      "text/plain": [
       "<IPython.core.display.Image object>"
      ]
     },
     "execution_count": 42,
     "metadata": {},
     "output_type": "execute_result"
    }
   ],
   "source": [
    "def prepareGraph(t):\n",
    "    ts = TreeStyle()\n",
    "    #ts.rotation = 90\n",
    "    ts.scale = 90\n",
    "    ts.branch_vertical_margin = 50 # 10 pixels between adjacent branches\n",
    "    ts.show_leaf_name = False #\n",
    "\n",
    "    nstyle = NodeStyle()\n",
    "    nstyle[\"shape\"] = \"square\"\n",
    "    nstyle[\"size\"] = 20\n",
    "    nstyle[\"fgcolor\"] = \"orange\"\n",
    "\n",
    "    for n in t.traverse():\n",
    "        n.set_style(nstyle)\n",
    "\n",
    "    for node in t.iter_leaves():\n",
    "        node.add_face(AttrFace(\"name\", fsize=20), column=0)  \n",
    "    \n",
    "    return t, ts\n",
    "\n",
    "## Create the tree as a list.\n",
    "P = [.1, .15, .4, .15, .2]\n",
    "h = [(chr(65 + i), P[i]) for i in range(len(P))]\n",
    "def createTree(h, probas = True):\n",
    "    if(len(h) == 1):\n",
    "        return h\n",
    "\n",
    "    h.sort(key = lambda x:x[1])\n",
    "\n",
    "    p = h[0][1] + h[1][1] # take first two lowest probabilties and concatenante them\n",
    "    a = (h[0], h[1]) if probas else (h[0][0], h[1][0]) # do the same for their values\n",
    "    h = [(a, p)] + h[2:] # add (a, p) to the beginnig of the list h\n",
    "    \n",
    "    return createTree(h, probas)\n",
    "\n",
    "print(\"h = \", h)\n",
    "T = createTree(h, False)[0][0]\n",
    "print(\"Corresponding tree: \", T)\n",
    "\n",
    "t = Tree(str(T)+\";\")\n",
    "t, ts = prepareGraph(t)\n",
    "t.render(\"%%inline\", tree_style = ts)\n"
   ]
  },
  {
   "cell_type": "markdown",
   "metadata": {},
   "source": [
    "### Q2. Write the function HuffmanGencode which computes the Huffman code of an element in $0,1,2,3,4$  and print it."
   ]
  },
  {
   "cell_type": "code",
   "execution_count": 120,
   "metadata": {},
   "outputs": [
    {
     "name": "stdout",
     "output_type": "stream",
     "text": [
      "['A', 'B', 'C', 'D', 'E']\n",
      "{'A': '100', 'B': '101', 'C': '0', 'D': '110', 'E': '111'}\n"
     ]
    }
   ],
   "source": [
    "def getCode(root, key, path):\n",
    "    if (len(root) == 1 and root != key):\n",
    "        return False\n",
    "\n",
    "    # Key found\n",
    "    if (root == key): \n",
    "        return True\n",
    "\n",
    "    # Required node is inside left subtree\n",
    "    if getCode(root[0], key, path):\n",
    "        path.append(0)\n",
    "        return True\n",
    "\n",
    "    # Required node is inside right subtree\n",
    "    if getCode(root[1], key, path):\n",
    "        path.append(1)\n",
    "        return True\n",
    "\n",
    "    return False\n",
    "    \n",
    "def HuffmanGencode(Tree, length):\n",
    "    codes = {}\n",
    "    keys = [chr(65 + c) for c in range (0, length)]\n",
    "    for i, key in enumerate(keys):  \n",
    "        pathCode = []\n",
    "        getCode(Tree, key, pathCode)\n",
    "        pathCodeStr = \"\"\n",
    "        for p in pathCode:\n",
    "            pathCodeStr += str(p)\n",
    "        pathCodeStr = pathCodeStr[::-1]\n",
    "        codes[key] = pathCodeStr\n",
    "    return codes    \n",
    "\n",
    "codes = HuffmanGencode(T, 5)\n",
    "print(codes)"
   ]
  },
  {
   "cell_type": "markdown",
   "metadata": {},
   "source": [
    "### Q3. Write a function that generates a random sequence of numbers between $0$ and $4$ according to the probability $h$."
   ]
  },
  {
   "cell_type": "code",
   "execution_count": 79,
   "metadata": {},
   "outputs": [
    {
     "name": "stdout",
     "output_type": "stream",
     "text": [
      "[4 2 1 2 2 0 3 3 4 4 0 1 0 1 2 2 2 3 2 0 3 1 2 2 0 2 4 1 3 2 4 4 2 2 2 2 0\n",
      " 1 4 1 3 2 2 2 2 2 3 2 2 1 4 4 2 1 3 4 0 1 1 2 3 1 3 0 1 4 4 2 0 1 1 4 0 4\n",
      " 0 2 2 4 0 2 4 4 2 4 2 0 1 2 3 3 1 0 0 4 2 2 1 2 2 2 2 2 2 3 0 2 2 2 2 4 2\n",
      " 4 1 4 4 4 2 1 4 3 3 2 4 3 2 1 4 2 2 2 4 0 4 4 0 3 1 2 2 1 0 2 2 3 3 3 0 1\n",
      " 4 3 1 4 4 2 0 3 3 2 4 1 2 2 4 1 1 2 1 0 3 4 0 4 0 1 4 0 3 3 1 2 3 2 4 4 4\n",
      " 1 2 2 2 3 0 3 1 4 1 0 0 2 0 2 2 2 3 4 1 4 2 4 3 4 4 0 3 2 4 1 4 3 3 2 2 0\n",
      " 2 3 0 0 4 2 2 1 2 2 4 1 4 2 4 4 1 4 2 1 4 1 2 4 4 4 4 3 4 2 0 2 3 4 4 3 2\n",
      " 2 4 2 3 2 0 2 0 0 2 2 2 3 1 2 4 2 1 2 3 3 2 2 3 3 1 2 3 3 1 4 3 2 3 3 2 0\n",
      " 0 3 2 1 3 2 2 0 4 2 4 2 2 1 1 2 2 4 3 2 3 3 4 2 0 0 4 0 4 3 4 2 2 1 1 2 1\n",
      " 4 4 3 3 2 3 2 3 2 2 2 3 4 2 4 0 0 2 2 2 3 3 2 2 1 2 4 4 4 3 3 1 2 2 2 2 2\n",
      " 2 3 4 3 1 4 2 4 1 4 3 4 3 4 1 3 1 2 0 2 0 4 3 2 4 2 2 3 0 3 1 2 0 2 2 4 4\n",
      " 4 3 2 3 4 4 2 0 4 1 4 1 3 2 1 1 1 3 1 2 3 2 2 4 2 2 2 0 0 2 4 3 3 4 2 2 0\n",
      " 1 2 2 2 2 2 2 2 4 1 3 4 2 2 2 2 4 4 2 2 2 1 2 1 3 2 3 3 2 1 2 3 2 0 1 4 0\n",
      " 2 2 3 4 2 2 4 2 2 1 1 1 2 4 0 2 4 2 3 2 1 4 2 4 2 2 1 2 2 1 1]\n"
     ]
    }
   ],
   "source": [
    "from numpy import random\n",
    "\n",
    "def RandGen(p, number):\n",
    "    return random.choice([0, 1, 2, 3, 4], p=p, size=number)\n",
    "\n",
    "x = RandGen(P, 512)\n",
    "print(x)\n",
    "#print([chr(65 + m) for m in x])\n",
    "\n"
   ]
  },
  {
   "cell_type": "markdown",
   "metadata": {},
   "source": [
    "### Q4. Write a function which maps a random sequence as above into its Huffman code and test it."
   ]
  },
  {
   "cell_type": "code",
   "execution_count": 70,
   "metadata": {},
   "outputs": [],
   "source": [
    "def CodeHuffman(x,codes):\n",
    "    result = \"\"\n",
    "    for e in x:\n",
    "        result += codes[chr(65 + e)]\n",
    "    return result"
   ]
  },
  {
   "cell_type": "code",
   "execution_count": 69,
   "metadata": {},
   "outputs": [
    {
     "name": "stdout",
     "output_type": "stream",
     "text": [
      "11001111001011000111100011000110111010100000111101110100100010110110110111100110101011111110001011010100000001101101000111000001011100111111100100111101001111100111100110010011010010101111111011011111101010010011100011010100110010110011011001011110001000011100110001101000110111111011100000001011001100101111101010111011001111011010001001110000111110011101111010111011011000011110111111111111101011000111101110110101110110110110110111101110000011110011111100110101111011011010101111110001010000010011011000101111111101110010011000011100101001110011100110010011000011101000100100010011011011101010011011100010000011000111010001011101111001001110111001101011111111001101110001111111000111101101000111100100101101000111010111100101110100110111101111100101000111110110001111001110101000001100111111001011101000111011100001001011001000001001010000101011111101011001111010101101000100011111111011110010110001011101001110001110010110010010001110011101110010001110011111011101111001100101010100110001111011110110111100111111111011110110110111101100100111111111011101001100101111001101111111101011011010110011100110\n"
     ]
    }
   ],
   "source": [
    "code = CodeHuffman(x,codes)\n",
    "print(code)"
   ]
  },
  {
   "cell_type": "markdown",
   "metadata": {},
   "source": [
    "### Q5. Compare with the Shannon bound.\n",
    "### Q6. Write below a function that decodes the Huffman code and test it on a random sequence. Check that it is the inverse of the coding map."
   ]
  },
  {
   "cell_type": "code",
   "execution_count": 85,
   "metadata": {},
   "outputs": [
    {
     "name": "stdout",
     "output_type": "stream",
     "text": [
      "Shanonn Entropy: 2.1464393446710153\n",
      "Longueur du code de Huffmam:  2.2\n",
      "DCEABACEACDCCDECBCCCCCEBDAACBBBBECCDBCEEACBBCACCCCCDDACECCCCCBDCEEAAEBCCEDCEADCADABCEEBBEDBCCAECCCDBCCDCBADDCBECCCACCECCDCCDACDEECECCCCCCCBADCBEBCBDDCEBBCCCAECCCCEDCECEBCECDDCCCEBEEEECBACEBDDBDDDDDEBDCCCCEAEECCDBECDDBCEECCCBCCCCCADDCCBEEBDCADCCCECCBCCECCECCDCADCCCECACAACADDECBCCDECCCACCCDCCECACBDEAAECECCDBEEADECCCEEACEBBCCCEAABBCCCECBECCBDADEBEABCCCEDDCCEAECBCCCCCDCEECCBDACECECCCCABAACCCABCCCCBCEECBAEBCBBCCCACEEDEABACBDAECCCECCBAAACECCECECCACECCEDECEADCBCBCCDCCEBECDEAEEECEBBBECDCAEEECECADCBECCDEEDBBBCDCECCD\n"
     ]
    }
   ],
   "source": [
    "# Q5\n",
    "def HuffmanLenght(p, codes):\n",
    "    codeLength = 0\n",
    "    for id, prob in enumerate(p):\n",
    "        codeLength += prob * len(codes.get(chr(65 + id)))\n",
    "    return codeLength\n",
    "\n",
    "print(\"Shanonn Entropy:\", ShannonEntropy(P))\n",
    "print(\"Longueur du code de Huffmam: \", HuffmanLenght(P, codes))\n",
    "\n",
    "#Q6\n",
    "# {'A': '100', 'B': '101', 'C': '0', 'D': '110', 'E': '111'}\n",
    "def DecodeHuffman(code, T):\n",
    "    result = \"\"\n",
    "    root = T\n",
    "    current = root\n",
    "    for bit in code:\n",
    "        if bit == '1': current = current[1] # Right\n",
    "        elif bit == '0': current = current[0] # Left\n",
    "        \n",
    "        # Letter found\n",
    "        if len(current) == 1:\n",
    "            result += current\n",
    "            current = root\n",
    "    return result\n",
    "            \n",
    "print(DecodeHuffman(code, T))\n",
    "\n"
   ]
  },
  {
   "cell_type": "markdown",
   "metadata": {},
   "source": [
    "## Block Huffman coding to reach better performances. \n",
    "### We consider a probability as below on an alphabet of two letters $a,b$.\n",
    "\n",
    "### Q7: Compute the entropy associated with this probability and generalize for an alphabet described by blocks of $k$ letters."
   ]
  },
  {
   "cell_type": "code",
   "execution_count": 121,
   "metadata": {},
   "outputs": [
    {
     "name": "stdout",
     "output_type": "stream",
     "text": [
      "[(('A', 0.12), ('A', 0.12)), (('A', 0.12), ('B', 0.88)), (('B', 0.88), ('A', 0.12)), (('B', 0.88), ('B', 0.88))]\n",
      "[(0.0144, 'AA'), (0.1056, 'AB'), (0.1056, 'BA'), (0.7744, 'BB')]\n",
      "['AA', 'AB', 'BA', 'BB']\n"
     ]
    }
   ],
   "source": [
    "import itertools\n",
    "\n",
    "def CreateBlocks(p, k):\n",
    "  alphabet = [(chr(65 + i), p[i]) for i in range(len(p))]\n",
    "  return list(itertools.product(alphabet, repeat=k))\n",
    "\n",
    "def CreateBlockTree(p, k):\n",
    "    # [A, B] --> [AA, AB, BB, BA]\n",
    "    blocks = CreateBlocks(p, k)\n",
    "    print(blocks)\n",
    "\n",
    "    tree = []\n",
    "    keys = []\n",
    "    for block in blocks: # AA BB AB BA\n",
    "      #print(block)\n",
    "      prob = 1\n",
    "      value = \"\"\n",
    "      for e in block: # A A\n",
    "        #print(e)\n",
    "        prob *= e[1]\n",
    "        value += e[0]\n",
    "      tree.append((prob, value))\n",
    "      keys.append(value)\n",
    "    return tree, keys\n",
    "\n",
    "\n",
    "t = .12\n",
    "h = [t, 1-t]\n",
    "n = 20000\n",
    "x = (np.random.rand(n) > t) + 1\n",
    "\n",
    "tree, keys = CreateBlockTree(h, 2)\n",
    "print(tree)\n",
    "print(keys)\n"
   ]
  },
  {
   "cell_type": "code",
   "execution_count": 122,
   "metadata": {},
   "outputs": [
    {
     "ename": "TypeError",
     "evalue": "object of type 'float' has no len()",
     "output_type": "error",
     "traceback": [
      "\u001b[1;31m---------------------------------------------------------------------------\u001b[0m",
      "\u001b[1;31mTypeError\u001b[0m                                 Traceback (most recent call last)",
      "\u001b[1;32m<ipython-input-122-4869405abf3b>\u001b[0m in \u001b[0;36m<module>\u001b[1;34m\u001b[0m\n\u001b[0;32m     11\u001b[0m     \u001b[1;32mreturn\u001b[0m \u001b[0mcodes\u001b[0m\u001b[1;33m\u001b[0m\u001b[1;33m\u001b[0m\u001b[0m\n\u001b[0;32m     12\u001b[0m \u001b[1;33m\u001b[0m\u001b[0m\n\u001b[1;32m---> 13\u001b[1;33m \u001b[0mblockCodes\u001b[0m \u001b[1;33m=\u001b[0m \u001b[0mHuffmanGencodeBlocks\u001b[0m\u001b[1;33m(\u001b[0m\u001b[0mtree\u001b[0m\u001b[1;33m,\u001b[0m \u001b[0mkeys\u001b[0m\u001b[1;33m)\u001b[0m\u001b[1;33m\u001b[0m\u001b[1;33m\u001b[0m\u001b[0m\n\u001b[0m\u001b[0;32m     14\u001b[0m \u001b[0mprint\u001b[0m\u001b[1;33m(\u001b[0m\u001b[0mblockCodes\u001b[0m\u001b[1;33m)\u001b[0m\u001b[1;33m\u001b[0m\u001b[1;33m\u001b[0m\u001b[0m\n",
      "\u001b[1;32m<ipython-input-122-4869405abf3b>\u001b[0m in \u001b[0;36mHuffmanGencodeBlocks\u001b[1;34m(Tree, keys)\u001b[0m\n\u001b[0;32m      3\u001b[0m     \u001b[1;32mfor\u001b[0m \u001b[0mi\u001b[0m\u001b[1;33m,\u001b[0m \u001b[0mkey\u001b[0m \u001b[1;32min\u001b[0m \u001b[0menumerate\u001b[0m\u001b[1;33m(\u001b[0m\u001b[0mkeys\u001b[0m\u001b[1;33m)\u001b[0m\u001b[1;33m:\u001b[0m\u001b[1;33m\u001b[0m\u001b[1;33m\u001b[0m\u001b[0m\n\u001b[0;32m      4\u001b[0m         \u001b[0mpathCode\u001b[0m \u001b[1;33m=\u001b[0m \u001b[1;33m[\u001b[0m\u001b[1;33m]\u001b[0m\u001b[1;33m\u001b[0m\u001b[1;33m\u001b[0m\u001b[0m\n\u001b[1;32m----> 5\u001b[1;33m         \u001b[0mgetCode\u001b[0m\u001b[1;33m(\u001b[0m\u001b[0mTree\u001b[0m\u001b[1;33m,\u001b[0m \u001b[0mkey\u001b[0m\u001b[1;33m,\u001b[0m \u001b[0mpathCode\u001b[0m\u001b[1;33m)\u001b[0m\u001b[1;33m\u001b[0m\u001b[1;33m\u001b[0m\u001b[0m\n\u001b[0m\u001b[0;32m      6\u001b[0m         \u001b[0mpathCodeStr\u001b[0m \u001b[1;33m=\u001b[0m \u001b[1;34m\"\"\u001b[0m\u001b[1;33m\u001b[0m\u001b[1;33m\u001b[0m\u001b[0m\n\u001b[0;32m      7\u001b[0m         \u001b[1;32mfor\u001b[0m \u001b[0mp\u001b[0m \u001b[1;32min\u001b[0m \u001b[0mpathCode\u001b[0m\u001b[1;33m:\u001b[0m\u001b[1;33m\u001b[0m\u001b[1;33m\u001b[0m\u001b[0m\n",
      "\u001b[1;32m<ipython-input-120-b4a6ee274699>\u001b[0m in \u001b[0;36mgetCode\u001b[1;34m(root, key, path)\u001b[0m\n\u001b[0;32m      8\u001b[0m \u001b[1;33m\u001b[0m\u001b[0m\n\u001b[0;32m      9\u001b[0m     \u001b[1;31m# Required node is inside left subtree\u001b[0m\u001b[1;33m\u001b[0m\u001b[1;33m\u001b[0m\u001b[1;33m\u001b[0m\u001b[0m\n\u001b[1;32m---> 10\u001b[1;33m     \u001b[1;32mif\u001b[0m \u001b[0mgetCode\u001b[0m\u001b[1;33m(\u001b[0m\u001b[0mroot\u001b[0m\u001b[1;33m[\u001b[0m\u001b[1;36m0\u001b[0m\u001b[1;33m]\u001b[0m\u001b[1;33m,\u001b[0m \u001b[0mkey\u001b[0m\u001b[1;33m,\u001b[0m \u001b[0mpath\u001b[0m\u001b[1;33m)\u001b[0m\u001b[1;33m:\u001b[0m\u001b[1;33m\u001b[0m\u001b[1;33m\u001b[0m\u001b[0m\n\u001b[0m\u001b[0;32m     11\u001b[0m         \u001b[0mpath\u001b[0m\u001b[1;33m.\u001b[0m\u001b[0mappend\u001b[0m\u001b[1;33m(\u001b[0m\u001b[1;36m0\u001b[0m\u001b[1;33m)\u001b[0m\u001b[1;33m\u001b[0m\u001b[1;33m\u001b[0m\u001b[0m\n\u001b[0;32m     12\u001b[0m         \u001b[1;32mreturn\u001b[0m \u001b[1;32mTrue\u001b[0m\u001b[1;33m\u001b[0m\u001b[1;33m\u001b[0m\u001b[0m\n",
      "\u001b[1;32m<ipython-input-120-b4a6ee274699>\u001b[0m in \u001b[0;36mgetCode\u001b[1;34m(root, key, path)\u001b[0m\n\u001b[0;32m      8\u001b[0m \u001b[1;33m\u001b[0m\u001b[0m\n\u001b[0;32m      9\u001b[0m     \u001b[1;31m# Required node is inside left subtree\u001b[0m\u001b[1;33m\u001b[0m\u001b[1;33m\u001b[0m\u001b[1;33m\u001b[0m\u001b[0m\n\u001b[1;32m---> 10\u001b[1;33m     \u001b[1;32mif\u001b[0m \u001b[0mgetCode\u001b[0m\u001b[1;33m(\u001b[0m\u001b[0mroot\u001b[0m\u001b[1;33m[\u001b[0m\u001b[1;36m0\u001b[0m\u001b[1;33m]\u001b[0m\u001b[1;33m,\u001b[0m \u001b[0mkey\u001b[0m\u001b[1;33m,\u001b[0m \u001b[0mpath\u001b[0m\u001b[1;33m)\u001b[0m\u001b[1;33m:\u001b[0m\u001b[1;33m\u001b[0m\u001b[1;33m\u001b[0m\u001b[0m\n\u001b[0m\u001b[0;32m     11\u001b[0m         \u001b[0mpath\u001b[0m\u001b[1;33m.\u001b[0m\u001b[0mappend\u001b[0m\u001b[1;33m(\u001b[0m\u001b[1;36m0\u001b[0m\u001b[1;33m)\u001b[0m\u001b[1;33m\u001b[0m\u001b[1;33m\u001b[0m\u001b[0m\n\u001b[0;32m     12\u001b[0m         \u001b[1;32mreturn\u001b[0m \u001b[1;32mTrue\u001b[0m\u001b[1;33m\u001b[0m\u001b[1;33m\u001b[0m\u001b[0m\n",
      "\u001b[1;32m<ipython-input-120-b4a6ee274699>\u001b[0m in \u001b[0;36mgetCode\u001b[1;34m(root, key, path)\u001b[0m\n\u001b[0;32m      1\u001b[0m \u001b[1;32mdef\u001b[0m \u001b[0mgetCode\u001b[0m\u001b[1;33m(\u001b[0m\u001b[0mroot\u001b[0m\u001b[1;33m,\u001b[0m \u001b[0mkey\u001b[0m\u001b[1;33m,\u001b[0m \u001b[0mpath\u001b[0m\u001b[1;33m)\u001b[0m\u001b[1;33m:\u001b[0m\u001b[1;33m\u001b[0m\u001b[1;33m\u001b[0m\u001b[0m\n\u001b[1;32m----> 2\u001b[1;33m     \u001b[1;32mif\u001b[0m \u001b[1;33m(\u001b[0m\u001b[0mlen\u001b[0m\u001b[1;33m(\u001b[0m\u001b[0mroot\u001b[0m\u001b[1;33m)\u001b[0m \u001b[1;33m==\u001b[0m \u001b[1;36m1\u001b[0m \u001b[1;32mand\u001b[0m \u001b[0mroot\u001b[0m \u001b[1;33m!=\u001b[0m \u001b[0mkey\u001b[0m\u001b[1;33m)\u001b[0m\u001b[1;33m:\u001b[0m\u001b[1;33m\u001b[0m\u001b[1;33m\u001b[0m\u001b[0m\n\u001b[0m\u001b[0;32m      3\u001b[0m         \u001b[1;32mreturn\u001b[0m \u001b[1;32mFalse\u001b[0m\u001b[1;33m\u001b[0m\u001b[1;33m\u001b[0m\u001b[0m\n\u001b[0;32m      4\u001b[0m \u001b[1;33m\u001b[0m\u001b[0m\n\u001b[0;32m      5\u001b[0m     \u001b[1;31m# Key found\u001b[0m\u001b[1;33m\u001b[0m\u001b[1;33m\u001b[0m\u001b[1;33m\u001b[0m\u001b[0m\n",
      "\u001b[1;31mTypeError\u001b[0m: object of type 'float' has no len()"
     ]
    }
   ],
   "source": [
    "def HuffmanGencodeBlocks(Tree, keys):\n",
    "    codes = {}\n",
    "    for i, key in enumerate(keys):  \n",
    "        pathCode = []\n",
    "        getCode(Tree, key, pathCode)\n",
    "        pathCodeStr = \"\"\n",
    "        for p in pathCode:\n",
    "            pathCodeStr += str(p)\n",
    "        pathCodeStr = pathCodeStr[::-1]\n",
    "        codes[key] = pathCodeStr\n",
    "    return codes  \n",
    "\n",
    "blockCodes = HuffmanGencodeBlocks(tree, keys)\n",
    "print(blockCodes)"
   ]
  },
  {
   "cell_type": "markdown",
   "metadata": {},
   "source": [
    "### Q7bis. Compare the length of the Huffman code and the Shannon bound. How to explain the difference ? In order to improve the result, we use Huffman coding on blocks of length $k$. "
   ]
  },
  {
   "cell_type": "markdown",
   "metadata": {},
   "source": [
    "### Q8. Write a code that takes as input a sequence of length $k$ of letters and associate a binary code. Then, write a function that takes as inputs a random sequence its code by block of length $k$. We assume that the length is a multiple of $k$."
   ]
  },
  {
   "cell_type": "code",
   "execution_count": null,
   "metadata": {},
   "outputs": [],
   "source": []
  },
  {
   "cell_type": "code",
   "execution_count": 90,
   "metadata": {},
   "outputs": [],
   "source": [
    "\n",
    "def CodeBlocks(x):\n",
    "    return 0\n",
    "def GenNewCode(x):\n",
    "    return 0"
   ]
  },
  {
   "cell_type": "markdown",
   "metadata": {},
   "source": [
    "### Q9. Write a function that gives the empirical probability of the message encoded by $k$-blocks."
   ]
  },
  {
   "cell_type": "code",
   "execution_count": null,
   "metadata": {},
   "outputs": [],
   "source": [
    "def EstimateProbabilites(code,taille_blocs):\n",
    "    return 0"
   ]
  },
  {
   "cell_type": "markdown",
   "metadata": {},
   "source": [
    "### Q10. Given a random sequence generated from the probability $h$, plot the performance of the Huffman code (length of the code - Shannon bound) in terms of $k$ the block length. Comment."
   ]
  },
  {
   "cell_type": "markdown",
   "metadata": {},
   "source": [
    "# B. The goal of this part is to explore implementations of a FIR or an IIR."
   ]
  },
  {
   "cell_type": "markdown",
   "metadata": {},
   "source": [
    "## Q1. Implement an ideal low pass filter using Fourier transform in 1D:\n",
    "### Compute the inverse FFT of a low pass filter and cut it with a window that will be passed in argument. "
   ]
  },
  {
   "cell_type": "markdown",
   "metadata": {},
   "source": [
    "## Q2. Implement an IIR filter defined by its numerator which will be set to a  constant $b$ and its denominator which will be set to $1-az^{-1}$. \n",
    "### What can you say about the range of the parameter $a$ in order to obtain a stable filter. \n",
    "### Experimentally, determine the ranges of $a$ to get respectively a low-pass filter and a high-pass filter. Give a theoretical explanation."
   ]
  },
  {
   "cell_type": "markdown",
   "metadata": {},
   "source": [
    "## In the following, we are given an electrocardiogram. We plot it as a function of time and we "
   ]
  },
  {
   "cell_type": "code",
   "execution_count": null,
   "metadata": {},
   "outputs": [],
   "source": [
    "### load the data which is an electrocardiogram which is sampled at 360Hz\n",
    "ecg = sp.misc.electrocardiogram()\n",
    "### Different plots.\n",
    "fs = 360.0\n",
    "### Since it is sampled at 360Hz, recall that Hz is the number of cycle per second, then the\n",
    "### time is obtained as follows:\n",
    "time = np.arange(ecg.size) / fs\n",
    "### simple plot.\n",
    "plt.plot(time, ecg)\n",
    "plt.xlabel(\"time in s\")\n",
    "plt.ylabel(\"ECG in mV\")\n",
    "plt.xlim(9, 10.2)\n",
    "plt.ylim(-1, 1.5)\n",
    "plt.show()\n",
    "print(\"time min\", time[0])\n",
    "print(\"time max\", time[-1])"
   ]
  },
  {
   "cell_type": "code",
   "execution_count": null,
   "metadata": {},
   "outputs": [],
   "source": [
    "### Use the scipy function to get the power spectrum of the signal.\n",
    "f, Pxx = sg.welch(ecg, fs=fs, nperseg=2048, scaling=\"spectrum\")\n",
    "plt.semilogy(f, Pxx)\n",
    "plt.xlabel(\"Frequency in Hz\")\n",
    "plt.ylabel(\"Power spectrum of the ECG in mV**2\")\n",
    "plt.xlim(f[[0, -1]])\n",
    "plt.show()"
   ]
  },
  {
   "cell_type": "markdown",
   "metadata": {},
   "source": [
    "### Q3. Estimate the number of heartbeats in the following electrocardiogram and estimate the mean value of the interval between two heartbeats. You can use the method of your choice. A possible method consists in using a band pass filter and then extract the maximum values of the filtered signal."
   ]
  },
  {
   "cell_type": "code",
   "execution_count": null,
   "metadata": {},
   "outputs": [],
   "source": []
  }
 ],
 "metadata": {
  "kernelspec": {
   "display_name": "Python 3",
   "language": "python",
   "name": "python3"
  },
  "language_info": {
   "codemirror_mode": {
    "name": "ipython",
    "version": 3
   },
   "file_extension": ".py",
   "mimetype": "text/x-python",
   "name": "python",
   "nbconvert_exporter": "python",
   "pygments_lexer": "ipython3",
   "version": "3.7.6"
  }
 },
 "nbformat": 4,
 "nbformat_minor": 2
}

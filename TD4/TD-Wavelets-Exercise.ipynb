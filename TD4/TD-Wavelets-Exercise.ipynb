{
 "cells": [
  {
   "cell_type": "markdown",
   "metadata": {},
   "source": [
    "## In this TD, we study the wavelet decomposition using the Daubechies 4 filters.\n",
    "### Hereafter, we compute a multiscale decomposition in the spirit of wavelets using Fourier.\n",
    "We are looking for a linear operator \n",
    "\\begin{align}\n",
    "W: \\,&\\mathbb{C}^N \\to \\mathbb{C}^{N_1} \\times \\ldots \\times \\mathbb{C}^{N_2}\\\\\n",
    "&u_0 \\mapsto (u_0,\\ldots,u_n)\\,,\n",
    "\\end{align}\n",
    "which is an isometry which means:\n",
    "\n",
    "\\begin{equation}\n",
    "\\forall u \\in \\mathbb{C}^{N_0}, \\| u \\|_2 = \\| Wu\\|_2\n",
    "\\end{equation}\n"
   ]
  },
  {
   "cell_type": "code",
   "execution_count": 10,
   "metadata": {
    "scrolled": true
   },
   "outputs": [
    {
     "name": "stdout",
     "output_type": "stream",
     "text": [
      "Populating the interactive namespace from numpy and matplotlib\n"
     ]
    }
   ],
   "source": [
    "from __future__ import division\n",
    "#from scipy.misc import imsave\n",
    "import numpy as np\n",
    "import scipy as sp\n",
    "import scipy.fftpack as ft\n",
    "import matplotlib as plt\n",
    "%pylab inline\n",
    "%matplotlib inline"
   ]
  },
  {
   "cell_type": "code",
   "execution_count": 11,
   "metadata": {},
   "outputs": [
    {
     "name": "stdout",
     "output_type": "stream",
     "text": [
      "175.428369140625 38.84592574578869 52.35\n",
      "(512, 512)\n"
     ]
    },
    {
     "data": {
      "image/png": "[encoded data removed]",
      "text/plain": [
       "<Figure size 720x720 with 1 Axes>"
      ]
     },
     "metadata": {
      "needs_background": "light"
     },
     "output_type": "display_data"
    }
   ],
   "source": [
    "# load an image\n",
    "import imageio as imio\n",
    "colored_image = imio.imread('peppers.tiff')\n",
    "n = 140\n",
    "image = np.sum(colored_image*[0.21, 0.72 ,0.07],axis=-1)\n",
    "plt.figure(figsize = (10,10))\n",
    "plt.subplot(1,2,1)\n",
    "plt.gray()\n",
    "cropped = image[n:n+64,n:n + 64]\n",
    "plt.title(\" Grey Level Image \" + str(np.shape(cropped)))\n",
    "\n",
    "plt.imshow(cropped)\n",
    "print(np.mean(cropped),np.std(cropped),(np.min(cropped)))\n",
    "print(image.shape)\n",
    "image0 = np.copy(image)"
   ]
  },
  {
   "cell_type": "markdown",
   "metadata": {},
   "source": [
    "## What are the conditions on the filters for being admissible wavelet filters: The first condition on the low-pass filter $h$ is \n",
    "\n",
    "\\begin{equation} \n",
    "\\begin{cases}|\\hat{h}(\\omega)|^2 + |\\hat{h}(\\omega + \\frac 12)|^2 = 2\\\\\\hat{h}(0) = \\sqrt{2}\\,.\\end{cases}\n",
    "\\end{equation}\n",
    "\n",
    "## The condition on the high-pass filter is the following:  \n",
    "\\begin{equation} \n",
    "\\begin{cases}|\\hat{g}(\\omega)|^2 + |\\hat{g}(\\omega + \\frac 12)|^2 = 2\\\\\\hat{g}(\\omega) \\hat{h}^*(\\omega)+ \\hat{g}(\\omega + \\frac 12)\\hat{h}^*(\\omega + \\frac 12) = 0\\,.\\end{cases}\n",
    "\\end{equation}\n",
    "### It is possible to find this condition by writing the orthogonality condition of the scaling function and the wavelet function at scale 0 and scale 1. It is similar to the computation presented in the previous lecture."
   ]
  },
  {
   "cell_type": "markdown",
   "metadata": {},
   "source": [
    "## Below are given the 4-Daubechies filters: the filter h corresponds to the low pass filter and the filter g corresponds to the high-pass filter. This filter is designed so that the first two moments of the wavelet function vanish. Thus, it encodes more efficiently parts of the image which have a behaviour close to a polynomial function of degree 2."
   ]
  },
  {
   "cell_type": "code",
   "execution_count": 12,
   "metadata": {},
   "outputs": [
    {
     "name": "stdout",
     "output_type": "stream",
     "text": [
      "low-pass filter associated with the scaling function [ 0.          0.48296291  0.8365163   0.22414387 -0.12940952]\n",
      "high-pass filter associated with the wavelet function [ 0.          0.12940952  0.22414387 -0.8365163   0.48296291]\n"
     ]
    }
   ],
   "source": [
    "h = [0, .482962913145, .836516303738, .224143868042, -.129409522551]\n",
    "h = h/norm(h) ## make sure the filter has norm 1.\n",
    "u = power(-ones(len(h)-1),range(1,len(h))) # alternate +1/-1\n",
    "g = concatenate(([0], h[-1:0:-1] * u))\n",
    "print(\"low-pass filter associated with the scaling function\",h)\n",
    "print(\"high-pass filter associated with the wavelet function\",g)"
   ]
  },
  {
   "cell_type": "markdown",
   "metadata": {},
   "source": [
    "### We choose below periodic boundary condition for the filtering which is the simplest condition one can use. More involved treatment of the boundaries have been developed."
   ]
  },
  {
   "cell_type": "code",
   "execution_count": 13,
   "metadata": {},
   "outputs": [],
   "source": [
    "# Below is a circular convolution implemented. \n",
    "def cconv(x, h, d):\n",
    "    if d == 1:\n",
    "        return np.transpose(cconv(np.transpose(x), h, 0))\n",
    "    y = np.zeros(x.shape)\n",
    "    p = len(h)\n",
    "    pc = int(round( float((p - 1) / 2 )))\n",
    "    for i in range(0, p):\n",
    "        y = y + h[i] * np.roll(x, pc-i, axis=0)\n",
    "    return y"
   ]
  },
  {
   "cell_type": "markdown",
   "metadata": {},
   "source": [
    "### Q1: Test that the subsampling and upsampling operators defined below ared adjoint operators. That is, you test on random vectors that the following equality holds: $\\langle \\text{subsampling}(x),y \\rangle = \\langle \\text{upsampling}(y),x \\rangle$."
   ]
  },
  {
   "cell_type": "code",
   "execution_count": 14,
   "metadata": {},
   "outputs": [
    {
     "name": "stdout",
     "output_type": "stream",
     "text": [
      "129.40385327694491\n",
      "129.40385327694491\n",
      "True\n"
     ]
    }
   ],
   "source": [
    "def subsampling(x, d):\n",
    "    p = 2\n",
    "    if d == 0:\n",
    "        y = x[::p, :]\n",
    "    elif d == 1:\n",
    "        y = x[:, ::p]\n",
    "    return y\n",
    "\n",
    "\n",
    "def upsampling(x, d):\n",
    "    p = 2\n",
    "    s = x.shape\n",
    "    if d == 0:\n",
    "        y = np.zeros((p * s[0], s[1]))\n",
    "        y[::p, :] = x\n",
    "    elif d == 1:\n",
    "        y = np.zeros((s[0], p * s[1]))\n",
    "        y[:, ::p] = x\n",
    "    return y\n",
    "\n",
    "def reverse(x):\n",
    "    return x[::-1]\n",
    "\n",
    "N = 32\n",
    "x = np.random.rand(N, N)\n",
    "y = np.random.rand(int(N / 2), N)\n",
    "d = 0\n",
    "epsilon = 1e-6\n",
    "print(np.vdot(subsampling(x,d), y))\n",
    "print(np.vdot(upsampling(y,d), x))\n",
    "print(np.vdot(upsampling(y,d), x) - np.vdot(subsampling(x,d), y) < epsilon)\n"
   ]
  },
  {
   "cell_type": "markdown",
   "metadata": {},
   "source": [
    "### In order to extend the wavelet transform in 2D on images, simply perform the wavelet transform iteratively on the dimension of the image. \n",
    "First choose for instance, the lines of the image and perform wavelet transform thus obtaining $low scale(0)$ and $high scale(0)$ on the lines (0 is the index for the lines and 1 for the columns). Then, you apply again the wavelet transform in the other direction, let's say the columns, for each part of the transformed signal. Thus, you obtain: $high scale(1)(low scale(0))$ and $high scale(1)(high scale(0))$ and  $low scale(1)(high scale(0))$ and $low scale(1)(low scale(0))$. You thus have four parts for the 1 step wavelet transform for a given image. It is usually concatenated in an array of this type: $\\begin{pmatrix} LL & HL \\\\ LH & HH\\end{pmatrix}$ where $L$ and $H$ represent respectively low and high scale."
   ]
  },
  {
   "cell_type": "markdown",
   "metadata": {},
   "source": [
    "## Q2: Implement below the one step of W transform of the lecture. Coarse and Fine scale transforms and test it on your image."
   ]
  },
  {
   "cell_type": "code",
   "execution_count": 15,
   "metadata": {},
   "outputs": [
    {
     "name": "stdout",
     "output_type": "stream",
     "text": [
      "(2, 2, 512, 512)\n"
     ]
    }
   ],
   "source": [
    "def coarse(image,d):\n",
    "    # d is the dimension along which the operation is performed.\n",
    "    # the formula to be implemented is the convolution of x by h along the dimension d.\n",
    "    coarse = cconv(image, h, d)\n",
    "    return coarse\n",
    "\n",
    "def fine(image,d):\n",
    "    # d is the dimension along which the operation is performed.\n",
    "    # the formula to be implemented is the convolution of x by g along the dimension d.\n",
    "    fine = cconv(image, g, d)\n",
    "    return fine\n",
    "\n",
    "def W_0(image,wavelet_coeff=None):\n",
    "    # start with the first dimension index 0 to get coarse and fine description along this axis\n",
    "    l0 = coarse(image, 0)\n",
    "    h0 = fine(image, 0)\n",
    "\n",
    "    # process again the previous results to get coarse and fine description along the axis of index 1.\n",
    "    # you thus should have 4 sub-images of the same size which is the initial image size divided by 4 (divide columns and rows by 2).\n",
    "    LL = coarse(l0, 1)\n",
    "    HL = fine(l0, 1)\n",
    "    LH = coarse(h0, 1)\n",
    "    HH = fine(h0, 1)\n",
    "    \n",
    "    # concatenate your results in an array called results\n",
    "    #rowL = np.concatenate((LL, LH), axis=0)\n",
    "    #rowH = np.concatenate((HL, HH), axis=0)\n",
    "    \n",
    "    return np.array([[LL, LH], [HL, HH]])\n",
    "\n",
    "print(W_0(image).shape)"
   ]
  },
  {
   "cell_type": "markdown",
   "metadata": {},
   "source": [
    "## Q3: Implement the full fast wavelet transform for a given number of scales."
   ]
  },
  {
   "cell_type": "code",
   "execution_count": 16,
   "metadata": {},
   "outputs": [],
   "source": [
    "def WaveletTransform(image,iterations =1):\n",
    "    ## iterate the 1step wavelet transform implemented above.\n",
    "    if iterations == 0:\n",
    "        return image\n",
    "\n",
    "    wavelet_transform = W_0(image)\n",
    "    \n",
    "    \n",
    "    return WaveletTransform(wavelet_transform,iterations-1)\n",
    "    "
   ]
  },
  {
   "cell_type": "markdown",
   "metadata": {},
   "source": [
    "## Q4: Below are functions to obtain a better plot of the results. Using the functions below, plot the wavelet transform."
   ]
  },
  {
   "cell_type": "code",
   "execution_count": 17,
   "metadata": {},
   "outputs": [
    {
     "ename": "TypeError",
     "evalue": "Invalid shape (2, 2, 512, 512) for image data",
     "output_type": "error",
     "traceback": [
      "\u001b[1;31m---------------------------------------------------------------------------\u001b[0m",
      "\u001b[1;31mTypeError\u001b[0m                                 Traceback (most recent call last)",
      "\u001b[1;32m<ipython-input-17-a9a6010de0b9>\u001b[0m in \u001b[0;36m<module>\u001b[1;34m\u001b[0m\n\u001b[0;32m     39\u001b[0m     \u001b[1;32mreturn\u001b[0m \u001b[0mU\u001b[0m\u001b[1;33m\u001b[0m\u001b[1;33m\u001b[0m\u001b[0m\n\u001b[0;32m     40\u001b[0m \u001b[1;33m\u001b[0m\u001b[0m\n\u001b[1;32m---> 41\u001b[1;33m \u001b[0mPlotWavelet\u001b[0m\u001b[1;33m(\u001b[0m\u001b[0mWaveletTransform\u001b[0m\u001b[1;33m(\u001b[0m\u001b[0mimage\u001b[0m\u001b[1;33m,\u001b[0m \u001b[1;36m1\u001b[0m\u001b[1;33m)\u001b[0m\u001b[1;33m)\u001b[0m\u001b[1;33m\u001b[0m\u001b[1;33m\u001b[0m\u001b[0m\n\u001b[0m",
      "\u001b[1;32m<ipython-input-17-a9a6010de0b9>\u001b[0m in \u001b[0;36mPlotWavelet\u001b[1;34m(wavelet, iterations)\u001b[0m\n\u001b[0;32m     32\u001b[0m     \u001b[0mU\u001b[0m\u001b[1;33m[\u001b[0m\u001b[1;33m:\u001b[0m\u001b[1;36m2\u001b[0m \u001b[1;33m**\u001b[0m \u001b[0mj\u001b[0m\u001b[1;33m:\u001b[0m\u001b[1;33m,\u001b[0m \u001b[1;33m:\u001b[0m\u001b[1;36m2\u001b[0m \u001b[1;33m**\u001b[0m \u001b[0mj\u001b[0m\u001b[1;33m:\u001b[0m\u001b[1;33m]\u001b[0m \u001b[1;33m=\u001b[0m \u001b[0mrescale\u001b[0m\u001b[1;33m(\u001b[0m\u001b[0mU\u001b[0m\u001b[1;33m[\u001b[0m\u001b[1;33m:\u001b[0m\u001b[1;36m2\u001b[0m \u001b[1;33m**\u001b[0m \u001b[0mj\u001b[0m\u001b[1;33m:\u001b[0m\u001b[1;33m,\u001b[0m \u001b[1;33m:\u001b[0m\u001b[1;36m2\u001b[0m \u001b[1;33m**\u001b[0m \u001b[0mj\u001b[0m\u001b[1;33m:\u001b[0m\u001b[1;33m]\u001b[0m\u001b[1;33m)\u001b[0m\u001b[1;33m\u001b[0m\u001b[1;33m\u001b[0m\u001b[0m\n\u001b[0;32m     33\u001b[0m     \u001b[1;31m# plot underlying image\u001b[0m\u001b[1;33m\u001b[0m\u001b[1;33m\u001b[0m\u001b[1;33m\u001b[0m\u001b[0m\n\u001b[1;32m---> 34\u001b[1;33m     \u001b[0mplt\u001b[0m\u001b[1;33m.\u001b[0m\u001b[0mimshow\u001b[0m\u001b[1;33m(\u001b[0m\u001b[0mU\u001b[0m\u001b[1;33m)\u001b[0m\u001b[1;33m\u001b[0m\u001b[1;33m\u001b[0m\u001b[0m\n\u001b[0m\u001b[0;32m     35\u001b[0m     \u001b[1;31m# display crosses\u001b[0m\u001b[1;33m\u001b[0m\u001b[1;33m\u001b[0m\u001b[1;33m\u001b[0m\u001b[0m\n\u001b[0;32m     36\u001b[0m     \u001b[1;32mfor\u001b[0m \u001b[0mj\u001b[0m \u001b[1;32min\u001b[0m \u001b[0mnp\u001b[0m\u001b[1;33m.\u001b[0m\u001b[0marange\u001b[0m\u001b[1;33m(\u001b[0m\u001b[0mJmax\u001b[0m\u001b[1;33m,\u001b[0m \u001b[0mJmin\u001b[0m \u001b[1;33m-\u001b[0m \u001b[1;36m1\u001b[0m\u001b[1;33m,\u001b[0m \u001b[1;33m-\u001b[0m\u001b[1;36m1\u001b[0m\u001b[1;33m)\u001b[0m\u001b[1;33m:\u001b[0m\u001b[1;33m\u001b[0m\u001b[1;33m\u001b[0m\u001b[0m\n",
      "\u001b[1;32m~\\anaconda3\\lib\\site-packages\\matplotlib\\pyplot.py\u001b[0m in \u001b[0;36mimshow\u001b[1;34m(X, cmap, norm, aspect, interpolation, alpha, vmin, vmax, origin, extent, shape, filternorm, filterrad, imlim, resample, url, data, **kwargs)\u001b[0m\n\u001b[0;32m   2682\u001b[0m         \u001b[0mfilternorm\u001b[0m\u001b[1;33m=\u001b[0m\u001b[0mfilternorm\u001b[0m\u001b[1;33m,\u001b[0m \u001b[0mfilterrad\u001b[0m\u001b[1;33m=\u001b[0m\u001b[0mfilterrad\u001b[0m\u001b[1;33m,\u001b[0m \u001b[0mimlim\u001b[0m\u001b[1;33m=\u001b[0m\u001b[0mimlim\u001b[0m\u001b[1;33m,\u001b[0m\u001b[1;33m\u001b[0m\u001b[1;33m\u001b[0m\u001b[0m\n\u001b[0;32m   2683\u001b[0m         resample=resample, url=url, **({\"data\": data} if data is not\n\u001b[1;32m-> 2684\u001b[1;33m         None else {}), **kwargs)\n\u001b[0m\u001b[0;32m   2685\u001b[0m     \u001b[0msci\u001b[0m\u001b[1;33m(\u001b[0m\u001b[0m__ret\u001b[0m\u001b[1;33m)\u001b[0m\u001b[1;33m\u001b[0m\u001b[1;33m\u001b[0m\u001b[0m\n\u001b[0;32m   2686\u001b[0m     \u001b[1;32mreturn\u001b[0m \u001b[0m__ret\u001b[0m\u001b[1;33m\u001b[0m\u001b[1;33m\u001b[0m\u001b[0m\n",
      "\u001b[1;32m~\\anaconda3\\lib\\site-packages\\matplotlib\\__init__.py\u001b[0m in \u001b[0;36minner\u001b[1;34m(ax, data, *args, **kwargs)\u001b[0m\n\u001b[0;32m   1597\u001b[0m     \u001b[1;32mdef\u001b[0m \u001b[0minner\u001b[0m\u001b[1;33m(\u001b[0m\u001b[0max\u001b[0m\u001b[1;33m,\u001b[0m \u001b[1;33m*\u001b[0m\u001b[0margs\u001b[0m\u001b[1;33m,\u001b[0m \u001b[0mdata\u001b[0m\u001b[1;33m=\u001b[0m\u001b[1;32mNone\u001b[0m\u001b[1;33m,\u001b[0m \u001b[1;33m**\u001b[0m\u001b[0mkwargs\u001b[0m\u001b[1;33m)\u001b[0m\u001b[1;33m:\u001b[0m\u001b[1;33m\u001b[0m\u001b[1;33m\u001b[0m\u001b[0m\n\u001b[0;32m   1598\u001b[0m         \u001b[1;32mif\u001b[0m \u001b[0mdata\u001b[0m \u001b[1;32mis\u001b[0m \u001b[1;32mNone\u001b[0m\u001b[1;33m:\u001b[0m\u001b[1;33m\u001b[0m\u001b[1;33m\u001b[0m\u001b[0m\n\u001b[1;32m-> 1599\u001b[1;33m             \u001b[1;32mreturn\u001b[0m \u001b[0mfunc\u001b[0m\u001b[1;33m(\u001b[0m\u001b[0max\u001b[0m\u001b[1;33m,\u001b[0m \u001b[1;33m*\u001b[0m\u001b[0mmap\u001b[0m\u001b[1;33m(\u001b[0m\u001b[0msanitize_sequence\u001b[0m\u001b[1;33m,\u001b[0m \u001b[0margs\u001b[0m\u001b[1;33m)\u001b[0m\u001b[1;33m,\u001b[0m \u001b[1;33m**\u001b[0m\u001b[0mkwargs\u001b[0m\u001b[1;33m)\u001b[0m\u001b[1;33m\u001b[0m\u001b[1;33m\u001b[0m\u001b[0m\n\u001b[0m\u001b[0;32m   1600\u001b[0m \u001b[1;33m\u001b[0m\u001b[0m\n\u001b[0;32m   1601\u001b[0m         \u001b[0mbound\u001b[0m \u001b[1;33m=\u001b[0m \u001b[0mnew_sig\u001b[0m\u001b[1;33m.\u001b[0m\u001b[0mbind\u001b[0m\u001b[1;33m(\u001b[0m\u001b[0max\u001b[0m\u001b[1;33m,\u001b[0m \u001b[1;33m*\u001b[0m\u001b[0margs\u001b[0m\u001b[1;33m,\u001b[0m \u001b[1;33m**\u001b[0m\u001b[0mkwargs\u001b[0m\u001b[1;33m)\u001b[0m\u001b[1;33m\u001b[0m\u001b[1;33m\u001b[0m\u001b[0m\n",
      "\u001b[1;32m~\\anaconda3\\lib\\site-packages\\matplotlib\\cbook\\deprecation.py\u001b[0m in \u001b[0;36mwrapper\u001b[1;34m(*args, **kwargs)\u001b[0m\n\u001b[0;32m    367\u001b[0m                 \u001b[1;34mf\"%(removal)s.  If any parameter follows {name!r}, they \"\u001b[0m\u001b[1;33m\u001b[0m\u001b[1;33m\u001b[0m\u001b[0m\n\u001b[0;32m    368\u001b[0m                 f\"should be pass as keyword, not positionally.\")\n\u001b[1;32m--> 369\u001b[1;33m         \u001b[1;32mreturn\u001b[0m \u001b[0mfunc\u001b[0m\u001b[1;33m(\u001b[0m\u001b[1;33m*\u001b[0m\u001b[0margs\u001b[0m\u001b[1;33m,\u001b[0m \u001b[1;33m**\u001b[0m\u001b[0mkwargs\u001b[0m\u001b[1;33m)\u001b[0m\u001b[1;33m\u001b[0m\u001b[1;33m\u001b[0m\u001b[0m\n\u001b[0m\u001b[0;32m    370\u001b[0m \u001b[1;33m\u001b[0m\u001b[0m\n\u001b[0;32m    371\u001b[0m     \u001b[1;32mreturn\u001b[0m \u001b[0mwrapper\u001b[0m\u001b[1;33m\u001b[0m\u001b[1;33m\u001b[0m\u001b[0m\n",
      "\u001b[1;32m~\\anaconda3\\lib\\site-packages\\matplotlib\\cbook\\deprecation.py\u001b[0m in \u001b[0;36mwrapper\u001b[1;34m(*args, **kwargs)\u001b[0m\n\u001b[0;32m    367\u001b[0m                 \u001b[1;34mf\"%(removal)s.  If any parameter follows {name!r}, they \"\u001b[0m\u001b[1;33m\u001b[0m\u001b[1;33m\u001b[0m\u001b[0m\n\u001b[0;32m    368\u001b[0m                 f\"should be pass as keyword, not positionally.\")\n\u001b[1;32m--> 369\u001b[1;33m         \u001b[1;32mreturn\u001b[0m \u001b[0mfunc\u001b[0m\u001b[1;33m(\u001b[0m\u001b[1;33m*\u001b[0m\u001b[0margs\u001b[0m\u001b[1;33m,\u001b[0m \u001b[1;33m**\u001b[0m\u001b[0mkwargs\u001b[0m\u001b[1;33m)\u001b[0m\u001b[1;33m\u001b[0m\u001b[1;33m\u001b[0m\u001b[0m\n\u001b[0m\u001b[0;32m    370\u001b[0m \u001b[1;33m\u001b[0m\u001b[0m\n\u001b[0;32m    371\u001b[0m     \u001b[1;32mreturn\u001b[0m \u001b[0mwrapper\u001b[0m\u001b[1;33m\u001b[0m\u001b[1;33m\u001b[0m\u001b[0m\n",
      "\u001b[1;32m~\\anaconda3\\lib\\site-packages\\matplotlib\\axes\\_axes.py\u001b[0m in \u001b[0;36mimshow\u001b[1;34m(self, X, cmap, norm, aspect, interpolation, alpha, vmin, vmax, origin, extent, shape, filternorm, filterrad, imlim, resample, url, **kwargs)\u001b[0m\n\u001b[0;32m   5677\u001b[0m                               resample=resample, **kwargs)\n\u001b[0;32m   5678\u001b[0m \u001b[1;33m\u001b[0m\u001b[0m\n\u001b[1;32m-> 5679\u001b[1;33m         \u001b[0mim\u001b[0m\u001b[1;33m.\u001b[0m\u001b[0mset_data\u001b[0m\u001b[1;33m(\u001b[0m\u001b[0mX\u001b[0m\u001b[1;33m)\u001b[0m\u001b[1;33m\u001b[0m\u001b[1;33m\u001b[0m\u001b[0m\n\u001b[0m\u001b[0;32m   5680\u001b[0m         \u001b[0mim\u001b[0m\u001b[1;33m.\u001b[0m\u001b[0mset_alpha\u001b[0m\u001b[1;33m(\u001b[0m\u001b[0malpha\u001b[0m\u001b[1;33m)\u001b[0m\u001b[1;33m\u001b[0m\u001b[1;33m\u001b[0m\u001b[0m\n\u001b[0;32m   5681\u001b[0m         \u001b[1;32mif\u001b[0m \u001b[0mim\u001b[0m\u001b[1;33m.\u001b[0m\u001b[0mget_clip_path\u001b[0m\u001b[1;33m(\u001b[0m\u001b[1;33m)\u001b[0m \u001b[1;32mis\u001b[0m \u001b[1;32mNone\u001b[0m\u001b[1;33m:\u001b[0m\u001b[1;33m\u001b[0m\u001b[1;33m\u001b[0m\u001b[0m\n",
      "\u001b[1;32m~\\anaconda3\\lib\\site-packages\\matplotlib\\image.py\u001b[0m in \u001b[0;36mset_data\u001b[1;34m(self, A)\u001b[0m\n\u001b[0;32m    688\u001b[0m                 or self._A.ndim == 3 and self._A.shape[-1] in [3, 4]):\n\u001b[0;32m    689\u001b[0m             raise TypeError(\"Invalid shape {} for image data\"\n\u001b[1;32m--> 690\u001b[1;33m                             .format(self._A.shape))\n\u001b[0m\u001b[0;32m    691\u001b[0m \u001b[1;33m\u001b[0m\u001b[0m\n\u001b[0;32m    692\u001b[0m         \u001b[1;32mif\u001b[0m \u001b[0mself\u001b[0m\u001b[1;33m.\u001b[0m\u001b[0m_A\u001b[0m\u001b[1;33m.\u001b[0m\u001b[0mndim\u001b[0m \u001b[1;33m==\u001b[0m \u001b[1;36m3\u001b[0m\u001b[1;33m:\u001b[0m\u001b[1;33m\u001b[0m\u001b[1;33m\u001b[0m\u001b[0m\n",
      "\u001b[1;31mTypeError\u001b[0m: Invalid shape (2, 2, 512, 512) for image data"
     ]
    },
    {
     "data": {
      "image/png": "[encoded data removed]",
      "text/plain": [
       "<Figure size 432x288 with 1 Axes>"
      ]
     },
     "metadata": {
      "needs_background": "light"
     },
     "output_type": "display_data"
    }
   ],
   "source": [
    "def rescale(f,a=0,b=1):\n",
    "    ## function that rescale f between a and b.\n",
    "    rang = f.max() - f.min()\n",
    "    g = (f - f.min()).copy()\n",
    "    if rang > 0:\n",
    "        g = g / rang\n",
    "    return a + g*(b-a)\n",
    "\n",
    "def rescaleWav(A):\n",
    "    ## function dedicated to a proper rescale of wavelet representation (particular case of the previous one).\n",
    "    sup = abs(A).max()\n",
    "    B = A.copy()\n",
    "    if sup > 0:\n",
    "        B = .5 + .5 * A / sup\n",
    "    return B\n",
    "    \n",
    "def PlotWavelet(wavelet, iterations=1):\n",
    "    ## Plot the wavelet representation, need to specify the number of iterations (or scales at which the FWT is computed).\n",
    "    n = wavelet.shape[1]\n",
    "    Jmax = int(np.log2(n)) - 1\n",
    "    Jmin = Jmax - iterations + 1\n",
    "    \n",
    "    U = wavelet.copy()\n",
    "    for j in np.arange(Jmax, Jmin - 1, -1):\n",
    "        U[:2 ** j:,    2 ** j:2 **\n",
    "            (j + 1):] = rescaleWav(U[:2 ** j:, 2 ** j:2 ** (j + 1):])\n",
    "        U[2 ** j:2 ** (j + 1):, :2 **\n",
    "          j:] = rescaleWav(U[2 ** j:2 ** (j + 1):, :2 ** j:])\n",
    "        U[2 ** j:2 ** (j + 1):, 2 ** j:2 ** (j + 1):] = (\n",
    "            rescaleWav(U[2 ** j:2 ** (j + 1):, 2 ** j:2 ** (j + 1):]))\n",
    "    # coarse scale\n",
    "    U[:2 ** j:, :2 ** j:] = rescale(U[:2 ** j:, :2 ** j:])\n",
    "    # plot underlying image\n",
    "    plt.imshow(U)\n",
    "    # display crosses\n",
    "    for j in np.arange(Jmax, Jmin - 1, -1):\n",
    "        plt.plot([0, 2 ** (j + 1)], [2 ** j, 2 ** j], 'b')\n",
    "        plt.plot([2 ** j, 2 ** j], [0, 2 ** (j + 1)], 'b')\n",
    "    return U\n",
    "\n",
    "PlotWavelet(WaveletTransform(image, 1))"
   ]
  },
  {
   "cell_type": "markdown",
   "metadata": {},
   "source": [
    "## Q5: The wavelet transform is an orthogonal transformation so its inverse is given by its transpose (also called adjoint). Use the two operators defined below to implement the inverse of the wavelet transform."
   ]
  },
  {
   "cell_type": "code",
   "execution_count": null,
   "metadata": {},
   "outputs": [],
   "source": [
    "def AdjointCoarse(image,d):\n",
    "    adjoint_h = reverse(h)\n",
    "    return cconv(upsampling(image,d),adjoint_h,d)\n",
    "def AdjointFine(image,d):\n",
    "    adjoint_g = reverse(g)\n",
    "    return cconv(upsampling(image,d),adjoint_g,d)"
   ]
  },
  {
   "cell_type": "code",
   "execution_count": null,
   "metadata": {},
   "outputs": [],
   "source": [
    "# Hereafter, you just implement the inverse of a one-step wavelet transform.\n",
    "def IW_0(wavelet):\n",
    "    # you can use the temporary variables defined below.\n",
    "    #n = np.shape(wavelet)[0]//2\n",
    "    #temp_hc_vc = wavelet[0:n,0:n]\n",
    "    #temp_hc_vf = wavelet[0:n,n:]\n",
    "    #temp_hf_vc = wavelet[n:,0:n]\n",
    "    #temp_hf_vf = wavelet[n:,n:]\n",
    "    \n",
    "    # implement here the adjoint on each directions and then on the full vector.\n",
    "    \n",
    "    return result\n",
    "\n",
    "# once the function above is implemented, the full wavelet inversion reads like this:\n",
    "def IWT(wavelet,iterations = 3):\n",
    "    image = np.copy(wavelet)\n",
    "    for i in reverse(range(iterations)):\n",
    "        cut = np.shape(wavelet)[0]//(2**i)\n",
    "        image[0:cut,0:cut] = IW_0(image[0:cut,0:cut])\n",
    "    return image\n",
    "    "
   ]
  },
  {
   "cell_type": "markdown",
   "metadata": {},
   "source": [
    "   ## Q6: Test on an image that the implemented inverse is correct. That is, check on an image $x$ that $IWT(WaveletTransform(x)) = x$ up to numerical errors."
   ]
  },
  {
   "cell_type": "markdown",
   "metadata": {},
   "source": [
    "# Use of wavelets for compression."
   ]
  },
  {
   "cell_type": "markdown",
   "metadata": {},
   "source": [
    "## Q7: Plot the histogram of the wavelet coefficients just to see the repartition between small and large coefficients by modifying the code below. You should see that most of the coefficients are close to $0$ and few are large coefficients. Thus, the idea is that lossy compression might perform well on this data."
   ]
  },
  {
   "cell_type": "code",
   "execution_count": null,
   "metadata": {},
   "outputs": [],
   "source": [
    "#temp = result.flatten()\n",
    "#import pylab as pl\n",
    "#pl.hist(temp,bins = linspace(-2,200,100))\n",
    "#temp.sort()\n",
    "#print(len(temp))\n",
    "#print(temp[500])\n"
   ]
  },
  {
   "cell_type": "markdown",
   "metadata": {},
   "source": [
    "## Q8: Consider the 20% largest coefficients of the wavelet transform and put all the remaining coefficients to $0$ and show the resulting approximating image. Do the same with Fourier transform by calling the $fft2$ function and compare visually and compare using the function implemented below which is the signal to noise ratio function."
   ]
  },
  {
   "cell_type": "code",
   "execution_count": null,
   "metadata": {},
   "outputs": [],
   "source": [
    "def snr(x, y):\n",
    "    s =  np.linalg.norm(x - y)\n",
    "    if s == 0:\n",
    "        return \"Equal inputs\"\n",
    "    return 20 * np.log10(np.linalg.norm(x) /s)"
   ]
  },
  {
   "cell_type": "markdown",
   "metadata": {},
   "source": [
    "## Last note that one can look at the wavelet function by plotting the image of a Dirac mass. Run and play with the code below."
   ]
  },
  {
   "cell_type": "code",
   "execution_count": null,
   "metadata": {},
   "outputs": [],
   "source": [
    "n = 32\n",
    "dirac = np.zeros((n,n))\n",
    "dirac[20,20] = 1\n",
    "ondelette = IW_0(dirac)\n",
    "plt.imshow(ondelette)"
   ]
  },
  {
   "cell_type": "code",
   "execution_count": null,
   "metadata": {},
   "outputs": [],
   "source": []
  }
 ],
 "metadata": {
  "kernelspec": {
   "display_name": "Python 3",
   "language": "python",
   "name": "python3"
  },
  "language_info": {
   "codemirror_mode": {
    "name": "ipython",
    "version": 3
   },
   "file_extension": ".py",
   "mimetype": "text/x-python",
   "name": "python",
   "nbconvert_exporter": "python",
   "pygments_lexer": "ipython3",
   "version": "3.7.6"
  }
 },
 "nbformat": 4,
 "nbformat_minor": 4
}
